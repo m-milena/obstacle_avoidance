{
 "cells": [
  {
   "cell_type": "markdown",
   "metadata": {},
   "source": [
    "# Obstacles avoiding using CNN\n",
    "## CNN architecture from article\n",
    "Used CNN architecture to avoid obstacles comes from article *Lei Tai, Shaohua Li, and Ming Liu. “A deep-network solution towards model-less obstacle avoidance”. In: Intelligent Robots and Systems (IROS), 2016 IEEE/RSJ International Conference on. IEEE. 2016, pp. 2759–2764.* I used datasets from article's author, available to download on [link](https://ram-lab.com/file/iros_2016.tar.gz). Network structure is shown below.\n",
    "#TODO: add CNN structure\n",
    "\n",
    "To learn this network, I used 1101 dept images with informtion about control: (full right, half right, straightforward, half left, full left).\n",
    "The best results I get on this data is:\n",
    "\n",
    "|Train       |           |\n",
    "|------------|-----------|\n",
    "|Loss: 0.035 | Acc: 0.99 |\n",
    "\n",
    "|Validation  |           |\n",
    "|------------|-----------|\n",
    "|Loss: 0.098 | Acc: 0.79 |\n",
    "\n",
    "|Test        |           |\n",
    "|------------|-----------|\n",
    "|Loss: 0.084 | Acc: 0.78 |\n",
    "\n",
    "Example 20 predictions for test data on this network:"
   ]
  },
  {
   "cell_type": "markdown",
   "metadata": {},
   "source": [
    "<img src=\"cnn_from_article/training/train_v7/train_v7_test_prediction.png\" width=\"900\">"
   ]
  },
  {
   "cell_type": "code",
   "execution_count": null,
   "metadata": {},
   "outputs": [],
   "source": []
  }
 ],
 "metadata": {
  "kernelspec": {
   "display_name": "Python 3",
   "language": "python",
   "name": "python3"
  },
  "language_info": {
   "codemirror_mode": {
    "name": "ipython",
    "version": 3
   },
   "file_extension": ".py",
   "mimetype": "text/x-python",
   "name": "python",
   "nbconvert_exporter": "python",
   "pygments_lexer": "ipython3",
   "version": "3.7.1"
  }
 },
 "nbformat": 4,
 "nbformat_minor": 2
}
